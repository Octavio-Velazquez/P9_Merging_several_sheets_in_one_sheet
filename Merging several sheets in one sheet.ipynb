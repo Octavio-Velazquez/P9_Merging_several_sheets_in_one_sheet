{
 "cells": [
  {
   "cell_type": "markdown",
   "id": "b19d5fcf",
   "metadata": {},
   "source": [
    "### Merging several sheets in one sheet. Excel or CSV file."
   ]
  },
  {
   "cell_type": "code",
   "execution_count": 1,
   "id": "0047aa80",
   "metadata": {},
   "outputs": [],
   "source": [
    "import pandas as pd\n",
    "import os"
   ]
  },
  {
   "cell_type": "code",
   "execution_count": 2,
   "id": "d65a563e",
   "metadata": {},
   "outputs": [],
   "source": [
    "excel_file = pd.ExcelFile(\"All_Data_Files_Sheets.xlsx\")"
   ]
  },
  {
   "cell_type": "code",
   "execution_count": 3,
   "id": "7a6322ff",
   "metadata": {},
   "outputs": [],
   "source": [
    "sheets = excel_file.sheet_names"
   ]
  },
  {
   "cell_type": "code",
   "execution_count": 4,
   "id": "ab4174ec",
   "metadata": {},
   "outputs": [
    {
     "name": "stdout",
     "output_type": "stream",
     "text": [
      "April 2019\n",
      "August 2019\n",
      "December 2019\n",
      "February 2019\n",
      "January 2019\n",
      "July 2019\n",
      "June 2019\n",
      "March 2019\n",
      "May 2019\n",
      "November 2019\n",
      "October 2019\n",
      "September 2019\n"
     ]
    }
   ],
   "source": [
    "for name in sheets:\n",
    "    print(name)"
   ]
  },
  {
   "cell_type": "code",
   "execution_count": 5,
   "id": "92f708e6",
   "metadata": {},
   "outputs": [],
   "source": [
    "dataframes = pd.read_excel(\"All_Data_Files_Sheets.xlsx\", sheet_name=sheets)"
   ]
  },
  {
   "cell_type": "code",
   "execution_count": 6,
   "id": "a253d4f6",
   "metadata": {},
   "outputs": [],
   "source": [
    "df_final = pd.concat(dataframes.values(), ignore_index=True)"
   ]
  },
  {
   "cell_type": "code",
   "execution_count": 7,
   "id": "2425622d",
   "metadata": {},
   "outputs": [],
   "source": [
    "df_final.to_excel('archivo_final_9.xlsx', index=False)"
   ]
  }
 ],
 "metadata": {
  "kernelspec": {
   "display_name": "Python 3 (ipykernel)",
   "language": "python",
   "name": "python3"
  },
  "language_info": {
   "codemirror_mode": {
    "name": "ipython",
    "version": 3
   },
   "file_extension": ".py",
   "mimetype": "text/x-python",
   "name": "python",
   "nbconvert_exporter": "python",
   "pygments_lexer": "ipython3",
   "version": "3.11.0"
  }
 },
 "nbformat": 4,
 "nbformat_minor": 5
}
